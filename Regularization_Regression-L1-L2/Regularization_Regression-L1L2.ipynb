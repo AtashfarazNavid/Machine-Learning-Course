{
  "cells": [
    {
      "cell_type": "markdown",
      "metadata": {
        "id": "AxTALVJ4gS4s"
      },
      "source": [
        "<div class=\"alert alert-block alert-success\">\n",
        "    <h1 align=\"center\">Machine Learning in Python</h1>\n",
        "    <h3 align=\"center\">Ridge and Lasso Regression with Python </h3>\n",
        "    <h4 align=\"center\"><a href=\"aradars.org/courses/fake-news-classification-using-lstm-in-python-fvdl307\">Navid Atashfaraz</a></h5>\n",
        "</div>"
      ]
    },
    {
      "cell_type": "markdown",
      "source": [
        "### Author and Developer: Navid Atashfaraz"
      ],
      "metadata": {
        "id": "FqJw6ocWovFt"
      }
    },
    {
      "cell_type": "markdown",
      "metadata": {
        "id": "rvjKW9HMgS4v"
      },
      "source": [
        "# Topics:\n",
        "\n",
        "- [ ] What is a Regularization\n",
        "- [ ] Ridge and Lasso Regression with Python"
      ]
    },
    {
      "cell_type": "markdown",
      "metadata": {
        "id": "L1W7BQXPgS4x"
      },
      "source": [
        "## What is Regularization?"
      ]
    },
    {
      "cell_type": "markdown",
      "metadata": {
        "id": "otGjyAVBgS40"
      },
      "source": [
        "<img src = \"https://cdn.hackernoon.com/hn-images/1*3XvSvKfde8u89TMwjkz3kg.png\" width=60%>"
      ]
    },
    {
      "cell_type": "markdown",
      "metadata": {
        "id": "doR0asYTgS43"
      },
      "source": [
        "#### There are 3 types of Regularization. We will cover the first two in this article\n",
        "\n",
        "* l1 regularization (Lasso)\n",
        "* l2 regularization (Ridge)\n",
        "* dropout regularization\n",
        "\n",
        "A regression model that uses L1 regularization technique is called Lasso Regression and model which uses L2 is called Ridge Regression. The key difference between these two is the penalty term."
      ]
    },
    {
      "cell_type": "markdown",
      "metadata": {
        "id": "p9jjJVHegS45"
      },
      "source": [
        "<img src = \"https://cdn.hackernoon.com/hn-images/1*SBUK2QEfCP-zvJmKm14wGQ.png\">"
      ]
    },
    {
      "cell_type": "markdown",
      "metadata": {
        "id": "GFrtIz9UgS48"
      },
      "source": [
        "## Lasso Regression\n",
        "\n",
        "Least absolute shrinkage and selection operator regression (usually just called lasso regression) is another regularized version of linear regression: just like peak regression, it adds a regularization term to the cost function. , but it uses the ℓ1 norm of the weight vector instead of half the square of the ℓ2 norm."
      ]
    },
    {
      "cell_type": "markdown",
      "metadata": {
        "id": "pbGpXk_PgS5C"
      },
      "source": [
        "A model that uses l1 regularization is called Lasso regression. Lasso regression (Least Absolute Shrinkage and Selection Operator) adds the absolute value of the magnitude of coefficient as penalty term to the loss function.\n",
        "\n",
        "The value of lambda must be balanced. A very small value will lead back to an OLS (Ordinary Least Square) and a very large value will drive the coefficients to zero. Hence the model will under-fit."
      ]
    },
    {
      "cell_type": "markdown",
      "metadata": {
        "id": "feBTrEeUgS5E"
      },
      "source": [
        "## Ridge Regression\n",
        "\n",
        "Ridge regression is a regularized version of linear regression. This forces the training algorithm not only to fit the data but also to keep the model weights as small as possible.\n",
        "Note that the accrual term should only be added to the cost function during training. After you train the model, you want to use the unregulated performance measure to evaluate the performance of the model."
      ]
    },
    {
      "cell_type": "markdown",
      "metadata": {
        "id": "2TnjAmWjgS5H"
      },
      "source": [
        "A model that uses l2 regularization is called Ridge regression. It is one of the more widely used techniques. This technique adds the “squared magnitude” of the coefficient as the penalty to the loss function. Here the value of lambda should be chosen appropriately just like l1 regularization. A small value of lambda will lead to OLS and a large value will lead to an under-fitting issue."
      ]
    },
    {
      "cell_type": "markdown",
      "metadata": {
        "id": "CH7u7k3OgS5L"
      },
      "source": [
        "### One key point to note about l1 regularization (or) Lasso regression is that it shrinks the less important features to zero making it extremely useful for feature selection."
      ]
    },
    {
      "cell_type": "markdown",
      "metadata": {
        "id": "rVIJqOf4gS4-"
      },
      "source": [
        "<img src = \"https://media.licdn.com/dms/image/v2/C4D12AQEgtRRdCc0GTQ/article-cover_image-shrink_720_1280/article-cover_image-shrink_720_1280/0/1558564556609?e=2147483647&v=beta&t=rsmsQx7JBdmq166bVI2AtkIu7JbmG7aqMN4B7K_GB9s\">"
      ]
    },
    {
      "cell_type": "code",
      "execution_count": null,
      "metadata": {
        "id": "Q5CxkC8pgS5N"
      },
      "outputs": [],
      "source": [
        "%matplotlib inline\n",
        "import numpy as np\n",
        "import pandas as pd\n",
        "import matplotlib.pyplot as plt\n",
        "import seaborn as sns\n",
        "import sklearn"
      ]
    },
    {
      "cell_type": "code",
      "execution_count": null,
      "metadata": {
        "id": "pCeigFq6gS5T",
        "outputId": "72a707ea-b180-4bd5-f193-3f998212a650"
      },
      "outputs": [
        {
          "data": {
            "text/html": [
              "<div>\n",
              "<style scoped>\n",
              "    .dataframe tbody tr th:only-of-type {\n",
              "        vertical-align: middle;\n",
              "    }\n",
              "\n",
              "    .dataframe tbody tr th {\n",
              "        vertical-align: top;\n",
              "    }\n",
              "\n",
              "    .dataframe thead th {\n",
              "        text-align: right;\n",
              "    }\n",
              "</style>\n",
              "<table border=\"1\" class=\"dataframe\">\n",
              "  <thead>\n",
              "    <tr style=\"text-align: right;\">\n",
              "      <th></th>\n",
              "      <th>Unnamed: 0</th>\n",
              "      <th>TV</th>\n",
              "      <th>Radio</th>\n",
              "      <th>Newspaper</th>\n",
              "      <th>Sales</th>\n",
              "    </tr>\n",
              "  </thead>\n",
              "  <tbody>\n",
              "    <tr>\n",
              "      <th>0</th>\n",
              "      <td>1</td>\n",
              "      <td>230.1</td>\n",
              "      <td>37.8</td>\n",
              "      <td>69.2</td>\n",
              "      <td>22.1</td>\n",
              "    </tr>\n",
              "    <tr>\n",
              "      <th>1</th>\n",
              "      <td>2</td>\n",
              "      <td>44.5</td>\n",
              "      <td>39.3</td>\n",
              "      <td>45.1</td>\n",
              "      <td>10.4</td>\n",
              "    </tr>\n",
              "    <tr>\n",
              "      <th>2</th>\n",
              "      <td>3</td>\n",
              "      <td>17.2</td>\n",
              "      <td>45.9</td>\n",
              "      <td>69.3</td>\n",
              "      <td>9.3</td>\n",
              "    </tr>\n",
              "    <tr>\n",
              "      <th>3</th>\n",
              "      <td>4</td>\n",
              "      <td>151.5</td>\n",
              "      <td>41.3</td>\n",
              "      <td>58.5</td>\n",
              "      <td>18.5</td>\n",
              "    </tr>\n",
              "    <tr>\n",
              "      <th>4</th>\n",
              "      <td>5</td>\n",
              "      <td>180.8</td>\n",
              "      <td>10.8</td>\n",
              "      <td>58.4</td>\n",
              "      <td>12.9</td>\n",
              "    </tr>\n",
              "  </tbody>\n",
              "</table>\n",
              "</div>"
            ],
            "text/plain": [
              "   Unnamed: 0     TV  Radio  Newspaper  Sales\n",
              "0           1  230.1   37.8       69.2   22.1\n",
              "1           2   44.5   39.3       45.1   10.4\n",
              "2           3   17.2   45.9       69.3    9.3\n",
              "3           4  151.5   41.3       58.5   18.5\n",
              "4           5  180.8   10.8       58.4   12.9"
            ]
          },
          "execution_count": 2,
          "metadata": {},
          "output_type": "execute_result"
        }
      ],
      "source": [
        "data = pd.read_csv(\"Advertising.csv\")\n",
        "data.head()"
      ]
    },
    {
      "cell_type": "code",
      "execution_count": null,
      "metadata": {
        "id": "pfd3jfy2gS5W"
      },
      "outputs": [],
      "source": [
        "data.drop([\"Unnamed: 0\"], axis=1, inplace=True)"
      ]
    },
    {
      "cell_type": "code",
      "execution_count": null,
      "metadata": {
        "id": "VMeyUCZUgS5Y",
        "outputId": "41ce908f-ca87-45f6-c4a2-b92c04220ec8"
      },
      "outputs": [
        {
          "data": {
            "image/png": "[encoded data removed]",
            "text/plain": [
              "<Figure size 432x288 with 1 Axes>"
            ]
          },
          "metadata": {
            "needs_background": "light"
          },
          "output_type": "display_data"
        },
        {
          "data": {
            "image/png": "[encoded data removed]",
            "text/plain": [
              "<Figure size 432x288 with 1 Axes>"
            ]
          },
          "metadata": {
            "needs_background": "light"
          },
          "output_type": "display_data"
        },
        {
          "data": {
            "image/png": "[encoded data removed]",
            "text/plain": [
              "<Figure size 432x288 with 1 Axes>"
            ]
          },
          "metadata": {
            "needs_background": "light"
          },
          "output_type": "display_data"
        }
      ],
      "source": [
        "def scatter_plot(feature, target):\n",
        "    plt.scatter(data[feature],\n",
        "                data[target],\n",
        "                c='black'\n",
        "                )\n",
        "    plt.xlabel(\"Money Spent on {} ads ($)\".format(feature))\n",
        "    plt.ylabel(\"Sales ($k)\")\n",
        "    plt.show()\n",
        "scatter_plot(\"TV\", \"Sales\")\n",
        "scatter_plot(\"Radio\", \"Sales\")\n",
        "scatter_plot(\"Newspaper\", \"Sales\")"
      ]
    },
    {
      "cell_type": "code",
      "execution_count": null,
      "metadata": {
        "id": "H9spaqHugS5a",
        "outputId": "012f5bab-33e0-4fb0-f98a-9499d5d94de9"
      },
      "outputs": [
        {
          "name": "stdout",
          "output_type": "stream",
          "text": [
            "-3.07294659710021\n"
          ]
        }
      ],
      "source": [
        "from sklearn.model_selection import cross_val_score\n",
        "from sklearn.linear_model import LinearRegression\n",
        "\n",
        "xs = data.drop([\"Sales\"], axis=1)\n",
        "y = data[\"Sales\"].values.reshape(-1,1)\n",
        "linreg = LinearRegression()\n",
        "MSE = cross_val_score(linreg, xs, y, scoring=\"neg_mean_squared_error\", cv=5)\n",
        "\n",
        "mean_MSE = np.mean(MSE)\n",
        "print(mean_MSE)"
      ]
    },
    {
      "cell_type": "markdown",
      "metadata": {
        "id": "0U5d49yFgS5b"
      },
      "source": [
        "## Ridge Regression\n",
        "\n",
        "For the ridge regression algorithm, I will use GridSearchCV model provided by Scikit-learn, which will allow us to automatically perform the 5-fold cross-validation to find the optimal value of alpha.\n",
        "\n",
        "This is how the code looks like for the Ridge Regression algorithm:"
      ]
    },
    {
      "cell_type": "code",
      "execution_count": null,
      "metadata": {
        "id": "YDaS3LohgS5c",
        "outputId": "a6f9b67e-921f-4fa8-a17b-104499da25d8"
      },
      "outputs": [
        {
          "data": {
            "text/plain": [
              "GridSearchCV(cv=5, estimator=Ridge(),\n",
              "             param_grid={'alpha': [1e-15, 1e-10, 1e-08, 0.0001, 0.001, 0.01, 1,\n",
              "                                   5, 10, 20]},\n",
              "             scoring='neg_mean_squared_error')"
            ]
          },
          "execution_count": 7,
          "metadata": {},
          "output_type": "execute_result"
        }
      ],
      "source": [
        "# Ridge Regression\n",
        "from sklearn.model_selection import GridSearchCV\n",
        "from sklearn.linear_model import Ridge\n",
        "ridge = Ridge()\n",
        "\n",
        "parameters = {\"alpha\":[1e-15, 1e-10, 1e-8, 1e-4, 1e-3, 1e-2, 1, 5, 10, 20]}\n",
        "ridge_regression = GridSearchCV(ridge, parameters, scoring='neg_mean_squared_error', cv=5)\n",
        "ridge_regression.fit(xs, y)"
      ]
    },
    {
      "cell_type": "code",
      "execution_count": null,
      "metadata": {
        "id": "oIDlWYzTgS5e",
        "outputId": "f9f484f8-070c-4beb-e3a1-eeb26ff8f02e"
      },
      "outputs": [
        {
          "name": "stdout",
          "output_type": "stream",
          "text": [
            "{'alpha': 20}\n",
            "-3.072671338341143\n"
          ]
        }
      ],
      "source": [
        "print(ridge_regression.best_params_)\n",
        "print(ridge_regression.best_score_)"
      ]
    },
    {
      "cell_type": "markdown",
      "metadata": {
        "id": "a5SL5pBtgS5g"
      },
      "source": [
        "## Lasso Regression\n",
        "\n",
        "For the Lasso Regression also we need to follow the same process as we din in the Ridge Regression. This is how the code looks like:"
      ]
    },
    {
      "cell_type": "code",
      "execution_count": null,
      "metadata": {
        "scrolled": true,
        "id": "TnXWVGEegS5g",
        "outputId": "08abd7e7-22bc-4bce-d3c3-8896f6098f12"
      },
      "outputs": [
        {
          "name": "stderr",
          "output_type": "stream",
          "text": [
            "C:\\Users\\soso\\anaconda3\\lib\\site-packages\\sklearn\\linear_model\\_coordinate_descent.py:529: ConvergenceWarning: Objective did not converge. You might want to increase the number of iterations. Duality gap: 202.6330184067651, tolerance: 0.43829494374999994\n",
            "  model = cd_fast.enet_coordinate_descent(\n",
            "C:\\Users\\soso\\anaconda3\\lib\\site-packages\\sklearn\\linear_model\\_coordinate_descent.py:529: ConvergenceWarning: Objective did not converge. You might want to increase the number of iterations. Duality gap: 228.2169839442834, tolerance: 0.45029244375\n",
            "  model = cd_fast.enet_coordinate_descent(\n",
            "C:\\Users\\soso\\anaconda3\\lib\\site-packages\\sklearn\\linear_model\\_coordinate_descent.py:529: ConvergenceWarning: Objective did not converge. You might want to increase the number of iterations. Duality gap: 159.3201080483578, tolerance: 0.41992074374999994\n",
            "  model = cd_fast.enet_coordinate_descent(\n"
          ]
        },
        {
          "name": "stdout",
          "output_type": "stream",
          "text": [
            "{'alpha': 1}\n",
            "-3.041405896751369\n"
          ]
        }
      ],
      "source": [
        "from sklearn.linear_model import Lasso\n",
        "lasso = Lasso()\n",
        "\n",
        "parameters = {\"alpha\":[1e-15, 1e-10, 1e-8, 1e-4, 1e-3, 1e-2, 1, 5, 10, 20]}\n",
        "lasso_regression = GridSearchCV(lasso, parameters, scoring='neg_mean_squared_error', cv=5)\n",
        "lasso_regression.fit(xs, y)\n",
        "\n",
        "print(lasso_regression.best_params_)\n",
        "print(lasso_regression.best_score_)"
      ]
    }
  ],
  "metadata": {
    "kernelspec": {
      "display_name": "Python 3",
      "language": "python",
      "name": "python3"
    },
    "language_info": {
      "codemirror_mode": {
        "name": "ipython",
        "version": 3
      },
      "file_extension": ".py",
      "mimetype": "text/x-python",
      "name": "python",
      "nbconvert_exporter": "python",
      "pygments_lexer": "ipython3",
      "version": "3.8.3"
    },
    "colab": {
      "provenance": []
    }
  },
  "nbformat": 4,
  "nbformat_minor": 0
}